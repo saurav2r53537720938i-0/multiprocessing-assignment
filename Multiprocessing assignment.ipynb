{
 "cells": [
  {
   "cell_type": "markdown",
   "id": "5fbde8bd-7d51-46c9-a756-d5188f0f9e28",
   "metadata": {},
   "source": [
    "Multiprocessing in python involes running multiple processes concurrently to improve performance and utilize multiple CPU cores.it's useful for praellelizing task and executing them simultaneously,which can lead to faster exceution times for computationally intensive operations .\n",
    "This particullarly benficial for tasks that can be divided into independents subtasks,as each process can work on a seprate portion of the task,levaraging the full potential of multicore sydtem"
   ]
  },
  {
   "cell_type": "markdown",
   "id": "5d0dc5e7-fe84-4400-a777-9bb85b630d29",
   "metadata": {},
   "source": [
    "The main diffrence between multiprocessing and multithreading iin python are :"
   ]
  },
  {
   "cell_type": "markdown",
   "id": "ac77e0f8-f96f-4fa1-9000-624cdbfd0f3a",
   "metadata": {},
   "source": [
    "1. Execution Model"
   ]
  },
  {
   "cell_type": "markdown",
   "id": "8b2b4ff8-e509-4da3-b19d-4f886aab37e0",
   "metadata": {},
   "source": [
    ".Multiprocessing:involes running multiple process each with its own memory space and python interpreter.Processes run independently of each other\n",
    ".multithreading:inovles running threads within in the same process .Threads share same memory space and resource including the python interpreter "
   ]
  },
  {
   "cell_type": "markdown",
   "id": "6a70da46-dcbf-431a-9f5a-a019558cc9e0",
   "metadata": {},
   "source": [
    "2. Isolation:"
   ]
  },
  {
   "cell_type": "markdown",
   "id": "65493965-e5d2-42ad-bb60-a231ea1a3e52",
   "metadata": {},
   "source": [
    ". Multiprocessing:processes are isolated and have seprate memory space.Communication between process typically involes inter-process communication(ipc)\n",
    ".multithreading:Threads share the same memory space ,making communication easier but also potentially more easier but also potentially more error-phone due yto shared state"
   ]
  },
  {
   "cell_type": "markdown",
   "id": "23af902d-eecb-46e7-b403-fb3dcaacad23",
   "metadata": {},
   "source": [
    "3. Global interpreter"
   ]
  },
  {
   "cell_type": "markdown",
   "id": "bd5fdefa-7d32-48a2-8634-a0ededbdccfe",
   "metadata": {},
   "source": [
    "4.Resource Consumption"
   ]
  },
  {
   "cell_type": "code",
   "execution_count": 3,
   "id": "6daf3704-2117-4077-b33f-00bcdbe8b2c8",
   "metadata": {},
   "outputs": [],
   "source": [
    "import multiprocessing\n",
    "\n",
    "def my_function(name):\n",
    "    print(f\"Hello,{names}!\")"
   ]
  },
  {
   "cell_type": "code",
   "execution_count": 4,
   "id": "61910a02-a2c7-42e3-8c47-a42bd4069b2b",
   "metadata": {},
   "outputs": [],
   "source": [
    "if __name__ == \" __main__\":\n",
    "    # Create a multiprocessing process\n",
    "    process = multiprocessing.process(target=my_function, args=(\"Alice\",))"
   ]
  },
  {
   "cell_type": "code",
   "execution_count": 6,
   "id": "490b1c8a-9adc-4ac9-8938-7dc88614829f",
   "metadata": {},
   "outputs": [
    {
     "ename": "NameError",
     "evalue": "name 'process' is not defined",
     "output_type": "error",
     "traceback": [
      "\u001b[0;31m---------------------------------------------------------------------------\u001b[0m",
      "\u001b[0;31mNameError\u001b[0m                                 Traceback (most recent call last)",
      "Cell \u001b[0;32mIn[6], line 2\u001b[0m\n\u001b[1;32m      1\u001b[0m \u001b[38;5;66;03m# start the process\u001b[39;00m\n\u001b[0;32m----> 2\u001b[0m \u001b[43mprocess\u001b[49m\u001b[38;5;241m.\u001b[39mstart()\n\u001b[1;32m      3\u001b[0m \u001b[38;5;66;03m# Wait for the process to finish\u001b[39;00m\n\u001b[1;32m      4\u001b[0m process\u001b[38;5;241m.\u001b[39mjoin()\n",
      "\u001b[0;31mNameError\u001b[0m: name 'process' is not defined"
     ]
    }
   ],
   "source": [
    "# start the process\n",
    "process.start()\n",
    "# Wait for the process to finish\n",
    "process.join()\n",
    "print(\"Main process continues...\")"
   ]
  },
  {
   "cell_type": "markdown",
   "id": "8fb089fc-c6ac-4ba9-937d-39713e25ffac",
   "metadata": {},
   "source": [
    "In python a multiprocessing pool is a mechanism provide by the multiprocessing module to parallelize the exceution of a function across multiple processes.it is particularly useful for task that can be divided into independent substasks,allowing them to be producedconcurrently.\n",
    "By using a multiprocessing pool, you can distrubute the worlkload among multiple process,taking advantage of multi-core process,taking adavntage of multicore processor taking advantage of multi-core processor and potentially speeding up the overall exceution time.The pool manage the creation and distrubution of tasks to worker processes,handles communication between them and returns the results to the main process"
   ]
  },
  {
   "cell_type": "code",
   "execution_count": 7,
   "id": "2d85847a-9789-4e0e-8ebc-00306c7af631",
   "metadata": {},
   "outputs": [],
   "source": [
    "from multiprocessing import pool\n",
    "\n",
    "def worker_function(task):\n",
    "    # Define the work each worker process should perform\n",
    "    result = task* 2\n",
    "    return result"
   ]
  },
  {
   "cell_type": "code",
   "execution_count": null,
   "id": "5440f358-b97b-4126-9fbe-5caf6202bbbc",
   "metadata": {},
   "outputs": [],
   "source": [
    "if __name__ ==\" __main__\":\n",
    "    #Number of worker process in the pool (defaults to the number of available cpu cores\n",
    "    num_process = 4\n",
    "    \n",
    "    # Create a pool with the specified number of processes\n",
    "    with pool(num_process) as pool:\n",
    "        # Define a list of task\n",
    "        tasks = [1,2,3,4,5]\n",
    "        \n",
    "        # Distribute the tasks among the worker processes and collects the results\n",
    "        results = pool.map(worker_function, tasks)\n",
    "        \n",
    "        # The results list now contains "
   ]
  }
 ],
 "metadata": {
  "kernelspec": {
   "display_name": "Python 3 (ipykernel)",
   "language": "python",
   "name": "python3"
  },
  "language_info": {
   "codemirror_mode": {
    "name": "ipython",
    "version": 3
   },
   "file_extension": ".py",
   "mimetype": "text/x-python",
   "name": "python",
   "nbconvert_exporter": "python",
   "pygments_lexer": "ipython3",
   "version": "3.10.8"
  }
 },
 "nbformat": 4,
 "nbformat_minor": 5
}
